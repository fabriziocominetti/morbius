{
 "cells": [
  {
   "cell_type": "markdown",
   "metadata": {},
   "source": [
    "## Morbius - Sentiment Analysis"
   ]
  },
  {
   "cell_type": "markdown",
   "metadata": {},
   "source": [
    "The data I've collected could not be considered representative, but they are useful to perform sentiment analysis."
   ]
  },
  {
   "cell_type": "markdown",
   "metadata": {},
   "source": [
    "_Import and Setup_"
   ]
  },
  {
   "cell_type": "code",
   "execution_count": 14,
   "metadata": {},
   "outputs": [],
   "source": [
    "import numpy as np\n",
    "import pandas as pd\n",
    "import nltk\n",
    "from nltk.sentiment.vader import SentimentIntensityAnalyzer\n",
    "import datetime as dt\n",
    "\n",
    "import seaborn as sns\n",
    "import matplotlib.pyplot as plt\n",
    "%matplotlib inline"
   ]
  },
  {
   "cell_type": "code",
   "execution_count": 2,
   "metadata": {},
   "outputs": [
    {
     "name": "stderr",
     "output_type": "stream",
     "text": [
      "[nltk_data] Downloading package vader_lexicon to\n",
      "[nltk_data]     C:\\Users\\FC\\AppData\\Roaming\\nltk_data...\n",
      "[nltk_data]   Package vader_lexicon is already up-to-date!\n"
     ]
    },
    {
     "data": {
      "text/plain": [
       "True"
      ]
     },
     "execution_count": 2,
     "metadata": {},
     "output_type": "execute_result"
    }
   ],
   "source": [
    "nltk.download(\"vader_lexicon\")"
   ]
  },
  {
   "cell_type": "code",
   "execution_count": 3,
   "metadata": {},
   "outputs": [],
   "source": [
    "sent_analyzer = SentimentIntensityAnalyzer()"
   ]
  },
  {
   "cell_type": "code",
   "execution_count": 4,
   "metadata": {},
   "outputs": [],
   "source": [
    "morbius1 = pd.read_csv('../data/Morbius_31-03-22.csv')\n",
    "morbius2 = pd.read_csv('../data/Morbius_01-04-22.csv')\n",
    "morbius3 = pd.read_csv('../data/Morbius_02-04-22.csv')\n",
    "morbius4 = pd.read_csv('../data/Morbius_03-04-22.csv')"
   ]
  },
  {
   "cell_type": "code",
   "execution_count": 5,
   "metadata": {},
   "outputs": [
    {
     "data": {
      "text/html": [
       "<div>\n",
       "<style scoped>\n",
       "    .dataframe tbody tr th:only-of-type {\n",
       "        vertical-align: middle;\n",
       "    }\n",
       "\n",
       "    .dataframe tbody tr th {\n",
       "        vertical-align: top;\n",
       "    }\n",
       "\n",
       "    .dataframe thead th {\n",
       "        text-align: right;\n",
       "    }\n",
       "</style>\n",
       "<table border=\"1\" class=\"dataframe\">\n",
       "  <thead>\n",
       "    <tr style=\"text-align: right;\">\n",
       "      <th></th>\n",
       "      <th>Unnamed: 0</th>\n",
       "      <th>Name</th>\n",
       "      <th>Time</th>\n",
       "      <th>Tweet</th>\n",
       "    </tr>\n",
       "  </thead>\n",
       "  <tbody>\n",
       "    <tr>\n",
       "      <th>0</th>\n",
       "      <td>0</td>\n",
       "      <td>Mothra 🦋🇵🇸</td>\n",
       "      <td>2022-03-31 10:50:14+00:00</td>\n",
       "      <td>Not everyone. Feel sad for The New Mutants and...</td>\n",
       "    </tr>\n",
       "    <tr>\n",
       "      <th>1</th>\n",
       "      <td>1</td>\n",
       "      <td>Spider-Man Enjoyer</td>\n",
       "      <td>2022-03-31 10:50:13+00:00</td>\n",
       "      <td>@hzjoetv Honestly bro I don’t care about revie...</td>\n",
       "    </tr>\n",
       "    <tr>\n",
       "      <th>2</th>\n",
       "      <td>2</td>\n",
       "      <td>9jalover</td>\n",
       "      <td>2022-03-31 10:50:06+00:00</td>\n",
       "      <td>Morbius’ Post Credits Scene Leaked? Ahead of t...</td>\n",
       "    </tr>\n",
       "    <tr>\n",
       "      <th>3</th>\n",
       "      <td>3</td>\n",
       "      <td>Jordy 🌱</td>\n",
       "      <td>2022-03-31 10:50:06+00:00</td>\n",
       "      <td>since when was morbius “everyone’s” most antic...</td>\n",
       "    </tr>\n",
       "    <tr>\n",
       "      <th>4</th>\n",
       "      <td>4</td>\n",
       "      <td>Buddy Watson</td>\n",
       "      <td>2022-03-31 10:49:56+00:00</td>\n",
       "      <td>Morbius (2022)\\n#NowWatching \\n\\nAlright I’ll ...</td>\n",
       "    </tr>\n",
       "  </tbody>\n",
       "</table>\n",
       "</div>"
      ],
      "text/plain": [
       "   Unnamed: 0                Name                       Time  \\\n",
       "0           0          Mothra 🦋🇵🇸  2022-03-31 10:50:14+00:00   \n",
       "1           1  Spider-Man Enjoyer  2022-03-31 10:50:13+00:00   \n",
       "2           2            9jalover  2022-03-31 10:50:06+00:00   \n",
       "3           3             Jordy 🌱  2022-03-31 10:50:06+00:00   \n",
       "4           4        Buddy Watson  2022-03-31 10:49:56+00:00   \n",
       "\n",
       "                                               Tweet  \n",
       "0  Not everyone. Feel sad for The New Mutants and...  \n",
       "1  @hzjoetv Honestly bro I don’t care about revie...  \n",
       "2  Morbius’ Post Credits Scene Leaked? Ahead of t...  \n",
       "3  since when was morbius “everyone’s” most antic...  \n",
       "4  Morbius (2022)\\n#NowWatching \\n\\nAlright I’ll ...  "
      ]
     },
     "execution_count": 5,
     "metadata": {},
     "output_type": "execute_result"
    }
   ],
   "source": [
    "morbius = pd.concat([morbius1, morbius2, morbius3, morbius4])\n",
    "morbius.head()"
   ]
  },
  {
   "cell_type": "code",
   "execution_count": 6,
   "metadata": {},
   "outputs": [
    {
     "data": {
      "text/html": [
       "<div>\n",
       "<style scoped>\n",
       "    .dataframe tbody tr th:only-of-type {\n",
       "        vertical-align: middle;\n",
       "    }\n",
       "\n",
       "    .dataframe tbody tr th {\n",
       "        vertical-align: top;\n",
       "    }\n",
       "\n",
       "    .dataframe thead th {\n",
       "        text-align: right;\n",
       "    }\n",
       "</style>\n",
       "<table border=\"1\" class=\"dataframe\">\n",
       "  <thead>\n",
       "    <tr style=\"text-align: right;\">\n",
       "      <th></th>\n",
       "      <th>Name</th>\n",
       "      <th>Time</th>\n",
       "      <th>Tweet</th>\n",
       "    </tr>\n",
       "  </thead>\n",
       "  <tbody>\n",
       "    <tr>\n",
       "      <th>0</th>\n",
       "      <td>Mothra 🦋🇵🇸</td>\n",
       "      <td>2022-03-31 10:50:14+00:00</td>\n",
       "      <td>Not everyone. Feel sad for The New Mutants and...</td>\n",
       "    </tr>\n",
       "    <tr>\n",
       "      <th>1</th>\n",
       "      <td>Spider-Man Enjoyer</td>\n",
       "      <td>2022-03-31 10:50:13+00:00</td>\n",
       "      <td>@hzjoetv Honestly bro I don’t care about revie...</td>\n",
       "    </tr>\n",
       "    <tr>\n",
       "      <th>2</th>\n",
       "      <td>9jalover</td>\n",
       "      <td>2022-03-31 10:50:06+00:00</td>\n",
       "      <td>Morbius’ Post Credits Scene Leaked? Ahead of t...</td>\n",
       "    </tr>\n",
       "    <tr>\n",
       "      <th>3</th>\n",
       "      <td>Jordy 🌱</td>\n",
       "      <td>2022-03-31 10:50:06+00:00</td>\n",
       "      <td>since when was morbius “everyone’s” most antic...</td>\n",
       "    </tr>\n",
       "    <tr>\n",
       "      <th>4</th>\n",
       "      <td>Buddy Watson</td>\n",
       "      <td>2022-03-31 10:49:56+00:00</td>\n",
       "      <td>Morbius (2022)\\n#NowWatching \\n\\nAlright I’ll ...</td>\n",
       "    </tr>\n",
       "  </tbody>\n",
       "</table>\n",
       "</div>"
      ],
      "text/plain": [
       "                 Name                      Time  \\\n",
       "0          Mothra 🦋🇵🇸 2022-03-31 10:50:14+00:00   \n",
       "1  Spider-Man Enjoyer 2022-03-31 10:50:13+00:00   \n",
       "2            9jalover 2022-03-31 10:50:06+00:00   \n",
       "3             Jordy 🌱 2022-03-31 10:50:06+00:00   \n",
       "4        Buddy Watson 2022-03-31 10:49:56+00:00   \n",
       "\n",
       "                                               Tweet  \n",
       "0  Not everyone. Feel sad for The New Mutants and...  \n",
       "1  @hzjoetv Honestly bro I don’t care about revie...  \n",
       "2  Morbius’ Post Credits Scene Leaked? Ahead of t...  \n",
       "3  since when was morbius “everyone’s” most antic...  \n",
       "4  Morbius (2022)\\n#NowWatching \\n\\nAlright I’ll ...  "
      ]
     },
     "execution_count": 6,
     "metadata": {},
     "output_type": "execute_result"
    }
   ],
   "source": [
    "morbius = morbius.drop(['Unnamed: 0'], axis=1)\n",
    "morbius['Time'] = pd.to_datetime(morbius['Time'])\n",
    "morbius.head()"
   ]
  },
  {
   "cell_type": "code",
   "execution_count": 7,
   "metadata": {},
   "outputs": [
    {
     "data": {
      "text/plain": [
       "Name                  object\n",
       "Time     datetime64[ns, UTC]\n",
       "Tweet                 object\n",
       "dtype: object"
      ]
     },
     "execution_count": 7,
     "metadata": {},
     "output_type": "execute_result"
    }
   ],
   "source": [
    "morbius.dtypes"
   ]
  },
  {
   "cell_type": "markdown",
   "metadata": {},
   "source": [
    "_Sentiment Analysis_"
   ]
  },
  {
   "cell_type": "code",
   "execution_count": 8,
   "metadata": {},
   "outputs": [],
   "source": [
    "morbius['Scores'] = morbius['Tweet'].apply(lambda Tweet:sent_analyzer.polarity_scores(Tweet))"
   ]
  },
  {
   "cell_type": "code",
   "execution_count": 9,
   "metadata": {},
   "outputs": [],
   "source": [
    "morbius['Compound'] = morbius['Scores'].apply(lambda score_dict:score_dict['compound'])"
   ]
  },
  {
   "cell_type": "code",
   "execution_count": 10,
   "metadata": {},
   "outputs": [
    {
     "data": {
      "text/html": [
       "<div>\n",
       "<style scoped>\n",
       "    .dataframe tbody tr th:only-of-type {\n",
       "        vertical-align: middle;\n",
       "    }\n",
       "\n",
       "    .dataframe tbody tr th {\n",
       "        vertical-align: top;\n",
       "    }\n",
       "\n",
       "    .dataframe thead th {\n",
       "        text-align: right;\n",
       "    }\n",
       "</style>\n",
       "<table border=\"1\" class=\"dataframe\">\n",
       "  <thead>\n",
       "    <tr style=\"text-align: right;\">\n",
       "      <th></th>\n",
       "      <th>Name</th>\n",
       "      <th>Time</th>\n",
       "      <th>Tweet</th>\n",
       "      <th>Scores</th>\n",
       "      <th>Compound</th>\n",
       "    </tr>\n",
       "  </thead>\n",
       "  <tbody>\n",
       "    <tr>\n",
       "      <th>0</th>\n",
       "      <td>Mothra 🦋🇵🇸</td>\n",
       "      <td>2022-03-31 10:50:14+00:00</td>\n",
       "      <td>Not everyone. Feel sad for The New Mutants and...</td>\n",
       "      <td>{'neg': 0.0, 'neu': 0.892, 'pos': 0.108, 'comp...</td>\n",
       "      <td>0.3724</td>\n",
       "    </tr>\n",
       "    <tr>\n",
       "      <th>1</th>\n",
       "      <td>Spider-Man Enjoyer</td>\n",
       "      <td>2022-03-31 10:50:13+00:00</td>\n",
       "      <td>@hzjoetv Honestly bro I don’t care about revie...</td>\n",
       "      <td>{'neg': 0.0, 'neu': 0.607, 'pos': 0.393, 'comp...</td>\n",
       "      <td>0.9062</td>\n",
       "    </tr>\n",
       "    <tr>\n",
       "      <th>2</th>\n",
       "      <td>9jalover</td>\n",
       "      <td>2022-03-31 10:50:06+00:00</td>\n",
       "      <td>Morbius’ Post Credits Scene Leaked? Ahead of t...</td>\n",
       "      <td>{'neg': 0.155, 'neu': 0.676, 'pos': 0.169, 'co...</td>\n",
       "      <td>0.0516</td>\n",
       "    </tr>\n",
       "    <tr>\n",
       "      <th>3</th>\n",
       "      <td>Jordy 🌱</td>\n",
       "      <td>2022-03-31 10:50:06+00:00</td>\n",
       "      <td>since when was morbius “everyone’s” most antic...</td>\n",
       "      <td>{'neg': 0.0, 'neu': 1.0, 'pos': 0.0, 'compound...</td>\n",
       "      <td>0.0000</td>\n",
       "    </tr>\n",
       "    <tr>\n",
       "      <th>4</th>\n",
       "      <td>Buddy Watson</td>\n",
       "      <td>2022-03-31 10:49:56+00:00</td>\n",
       "      <td>Morbius (2022)\\n#NowWatching \\n\\nAlright I’ll ...</td>\n",
       "      <td>{'neg': 0.0, 'neu': 0.75, 'pos': 0.25, 'compou...</td>\n",
       "      <td>0.2500</td>\n",
       "    </tr>\n",
       "  </tbody>\n",
       "</table>\n",
       "</div>"
      ],
      "text/plain": [
       "                 Name                      Time  \\\n",
       "0          Mothra 🦋🇵🇸 2022-03-31 10:50:14+00:00   \n",
       "1  Spider-Man Enjoyer 2022-03-31 10:50:13+00:00   \n",
       "2            9jalover 2022-03-31 10:50:06+00:00   \n",
       "3             Jordy 🌱 2022-03-31 10:50:06+00:00   \n",
       "4        Buddy Watson 2022-03-31 10:49:56+00:00   \n",
       "\n",
       "                                               Tweet  \\\n",
       "0  Not everyone. Feel sad for The New Mutants and...   \n",
       "1  @hzjoetv Honestly bro I don’t care about revie...   \n",
       "2  Morbius’ Post Credits Scene Leaked? Ahead of t...   \n",
       "3  since when was morbius “everyone’s” most antic...   \n",
       "4  Morbius (2022)\\n#NowWatching \\n\\nAlright I’ll ...   \n",
       "\n",
       "                                              Scores  Compound  \n",
       "0  {'neg': 0.0, 'neu': 0.892, 'pos': 0.108, 'comp...    0.3724  \n",
       "1  {'neg': 0.0, 'neu': 0.607, 'pos': 0.393, 'comp...    0.9062  \n",
       "2  {'neg': 0.155, 'neu': 0.676, 'pos': 0.169, 'co...    0.0516  \n",
       "3  {'neg': 0.0, 'neu': 1.0, 'pos': 0.0, 'compound...    0.0000  \n",
       "4  {'neg': 0.0, 'neu': 0.75, 'pos': 0.25, 'compou...    0.2500  "
      ]
     },
     "execution_count": 10,
     "metadata": {},
     "output_type": "execute_result"
    }
   ],
   "source": [
    "morbius.head()"
   ]
  },
  {
   "cell_type": "code",
   "execution_count": 11,
   "metadata": {},
   "outputs": [],
   "source": [
    "morbius.sort_values(by='Time', inplace=True)\n",
    "morbius.index = pd.to_datetime(morbius['Time'])\n",
    "\n",
    "morbius['mean'] = morbius['Compound'].expanding().mean()\n",
    "morbius['rolling'] = morbius['Compound'].rolling('6h').mean()"
   ]
  },
  {
   "cell_type": "code",
   "execution_count": 16,
   "metadata": {},
   "outputs": [
    {
     "data": {
      "image/png": "[encoded data removed]",
      "text/plain": [
       "<Figure size 1440x360 with 1 Axes>"
      ]
     },
     "metadata": {
      "needs_background": "light"
     },
     "output_type": "display_data"
    }
   ],
   "source": [
    "fig = plt.figure(figsize=(20,5))\n",
    "ax = fig.add_subplot(111)\n",
    "ax.scatter(morbius['Time'], morbius['Compound'], label='Tweet Sentiment')\n",
    "ax.plot(morbius['Time'], morbius['rolling'], color ='r', label='Rolling Mean')\n",
    "ax.plot(morbius['Time'], morbius['mean'], color='y', label='Expanding Mean')\n",
    "\n",
    "ax.set_xlim([dt.date(2022,3,31), dt.date(2022,4,4)])\n",
    "ax.set(title='Morbius Tweets over Time', xlabel='Date', ylabel='Sentiment')\n",
    "ax.legend(loc='best')\n",
    "fig.tight_layout()\n",
    "plt.show()"
   ]
  },
  {
   "cell_type": "markdown",
   "metadata": {},
   "source": [
    "_Sentiment Analysis 2_"
   ]
  },
  {
   "cell_type": "code",
   "execution_count": 21,
   "metadata": {},
   "outputs": [],
   "source": [
    "morbius1['Scores'] = morbius1['Tweet'].apply(lambda Tweet:sent_analyzer.polarity_scores(Tweet))\n",
    "morbius2['Scores'] = morbius2['Tweet'].apply(lambda Tweet:sent_analyzer.polarity_scores(Tweet))\n",
    "morbius3['Scores'] = morbius3['Tweet'].apply(lambda Tweet:sent_analyzer.polarity_scores(Tweet))\n",
    "morbius4['Scores'] = morbius4['Tweet'].apply(lambda Tweet:sent_analyzer.polarity_scores(Tweet))"
   ]
  },
  {
   "cell_type": "code",
   "execution_count": 22,
   "metadata": {},
   "outputs": [],
   "source": [
    "morbius1['Compound'] = morbius1['Scores'].apply(lambda score_dict:score_dict['compound'])\n",
    "morbius2['Compound'] = morbius2['Scores'].apply(lambda score_dict:score_dict['compound'])\n",
    "morbius3['Compound'] = morbius3['Scores'].apply(lambda score_dict:score_dict['compound'])\n",
    "morbius4['Compound'] = morbius4['Scores'].apply(lambda score_dict:score_dict['compound'])"
   ]
  },
  {
   "cell_type": "code",
   "execution_count": 27,
   "metadata": {},
   "outputs": [
    {
     "data": {
      "image/png": "[encoded data removed]",
      "text/plain": [
       "<Figure size 432x288 with 1 Axes>"
      ]
     },
     "metadata": {
      "needs_background": "light"
     },
     "output_type": "display_data"
    }
   ],
   "source": [
    "ax1 = sns.kdeplot(data=morbius1, x='Compound', label = 'Morbius day1', color = 'r', linestyle='--')\n",
    "ax2 = sns.kdeplot(data=morbius2, x='Compound', label = 'Morbius day2', color = 'r', linestyle='dotted')\n",
    "ax3 = sns.kdeplot(data=morbius3, x='Compound', label = 'Morbius day3', color = 'r', linestyle='-.')\n",
    "ax4 = sns.kdeplot(data=morbius4, x='Compound', label = 'Morbius day4', color = 'r')\n",
    "\n",
    "ax1.set_xlim(-1,1)\n",
    "ax2.set_xlim(-1,1)\n",
    "ax3.set_xlim(-1,1)\n",
    "ax4.set_xlim(-1,1)\n",
    "\n",
    "plt.legend()\n",
    "plt.suptitle('Morbius Sentiment', fontsize=14)\n",
    "plt.title('Morbius\\' sentiment dropped on the 2nd day')\n",
    "plt.savefig('../figures/morbius.png', dpi=300, bbox_inches = 'tight', facecolor='white', transparent=False)"
   ]
  }
 ],
 "metadata": {
  "interpreter": {
   "hash": "7c718c3f4bc65d06ea18fa4ce8d078d563a2be20f942ed357f00f50d87265992"
  },
  "kernelspec": {
   "display_name": "Python 3.9.11 ('sentiment')",
   "language": "python",
   "name": "python3"
  },
  "language_info": {
   "codemirror_mode": {
    "name": "ipython",
    "version": 3
   },
   "file_extension": ".py",
   "mimetype": "text/x-python",
   "name": "python",
   "nbconvert_exporter": "python",
   "pygments_lexer": "ipython3",
   "version": "3.9.11"
  },
  "orig_nbformat": 4
 },
 "nbformat": 4,
 "nbformat_minor": 2
}
