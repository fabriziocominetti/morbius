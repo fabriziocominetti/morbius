{
 "cells": [
  {
   "cell_type": "markdown",
   "metadata": {},
   "source": [
    "## Morbius vs Moon Knight - Sentiment Analysis"
   ]
  },
  {
   "cell_type": "markdown",
   "metadata": {},
   "source": [
    "The data I've collected could not be considered representative, but they are useful to perform sentiment analysis."
   ]
  },
  {
   "cell_type": "markdown",
   "metadata": {},
   "source": [
    "_Import and Setup_"
   ]
  },
  {
   "cell_type": "code",
   "execution_count": 1,
   "metadata": {},
   "outputs": [],
   "source": [
    "import numpy as np\n",
    "import pandas as pd\n",
    "import nltk\n",
    "from nltk.sentiment.vader import SentimentIntensityAnalyzer"
   ]
  },
  {
   "cell_type": "markdown",
   "metadata": {},
   "source": [
    "#### Morbius VS Moon Knight\n",
    "\n",
    "Release date\n",
    "- Moon Knight: 30-01-2022\n",
    "- Morbius: 31-01-2022\n",
    "\n",
    "Data collected for: 31-03-2022 & 01-04-2022"
   ]
  },
  {
   "cell_type": "code",
   "execution_count": 2,
   "metadata": {},
   "outputs": [
    {
     "name": "stderr",
     "output_type": "stream",
     "text": [
      "[nltk_data] Downloading package vader_lexicon to\n",
      "[nltk_data]     C:\\Users\\FC\\AppData\\Roaming\\nltk_data...\n",
      "[nltk_data]   Package vader_lexicon is already up-to-date!\n"
     ]
    },
    {
     "data": {
      "text/plain": [
       "True"
      ]
     },
     "execution_count": 2,
     "metadata": {},
     "output_type": "execute_result"
    }
   ],
   "source": [
    "nltk.download(\"vader_lexicon\")"
   ]
  },
  {
   "cell_type": "code",
   "execution_count": 3,
   "metadata": {},
   "outputs": [],
   "source": [
    "sent_analyzer = SentimentIntensityAnalyzer()"
   ]
  },
  {
   "cell_type": "code",
   "execution_count": 4,
   "metadata": {},
   "outputs": [],
   "source": [
    "morbius1 = pd.read_csv('../data/Morbius_31-03-22.csv')"
   ]
  },
  {
   "cell_type": "code",
   "execution_count": 5,
   "metadata": {},
   "outputs": [
    {
     "data": {
      "text/plain": [
       "Unnamed: 0     int64\n",
       "Name          object\n",
       "Time          object\n",
       "Tweet         object\n",
       "dtype: object"
      ]
     },
     "execution_count": 5,
     "metadata": {},
     "output_type": "execute_result"
    }
   ],
   "source": [
    "morbius1.dtypes"
   ]
  },
  {
   "cell_type": "code",
   "execution_count": 6,
   "metadata": {},
   "outputs": [
    {
     "data": {
      "text/html": [
       "<div>\n",
       "<style scoped>\n",
       "    .dataframe tbody tr th:only-of-type {\n",
       "        vertical-align: middle;\n",
       "    }\n",
       "\n",
       "    .dataframe tbody tr th {\n",
       "        vertical-align: top;\n",
       "    }\n",
       "\n",
       "    .dataframe thead th {\n",
       "        text-align: right;\n",
       "    }\n",
       "</style>\n",
       "<table border=\"1\" class=\"dataframe\">\n",
       "  <thead>\n",
       "    <tr style=\"text-align: right;\">\n",
       "      <th></th>\n",
       "      <th>Name</th>\n",
       "      <th>Time</th>\n",
       "      <th>Tweet</th>\n",
       "    </tr>\n",
       "  </thead>\n",
       "  <tbody>\n",
       "    <tr>\n",
       "      <th>0</th>\n",
       "      <td>Mothra 🦋🇵🇸</td>\n",
       "      <td>2022-03-31 10:50:14+00:00</td>\n",
       "      <td>Not everyone. Feel sad for The New Mutants and...</td>\n",
       "    </tr>\n",
       "    <tr>\n",
       "      <th>1</th>\n",
       "      <td>Spider-Man Enjoyer</td>\n",
       "      <td>2022-03-31 10:50:13+00:00</td>\n",
       "      <td>@hzjoetv Honestly bro I don’t care about revie...</td>\n",
       "    </tr>\n",
       "    <tr>\n",
       "      <th>2</th>\n",
       "      <td>9jalover</td>\n",
       "      <td>2022-03-31 10:50:06+00:00</td>\n",
       "      <td>Morbius’ Post Credits Scene Leaked? Ahead of t...</td>\n",
       "    </tr>\n",
       "    <tr>\n",
       "      <th>3</th>\n",
       "      <td>Jordy 🌱</td>\n",
       "      <td>2022-03-31 10:50:06+00:00</td>\n",
       "      <td>since when was morbius “everyone’s” most antic...</td>\n",
       "    </tr>\n",
       "    <tr>\n",
       "      <th>4</th>\n",
       "      <td>Buddy Watson</td>\n",
       "      <td>2022-03-31 10:49:56+00:00</td>\n",
       "      <td>Morbius (2022)\\n#NowWatching \\n\\nAlright I’ll ...</td>\n",
       "    </tr>\n",
       "  </tbody>\n",
       "</table>\n",
       "</div>"
      ],
      "text/plain": [
       "                 Name                      Time  \\\n",
       "0          Mothra 🦋🇵🇸 2022-03-31 10:50:14+00:00   \n",
       "1  Spider-Man Enjoyer 2022-03-31 10:50:13+00:00   \n",
       "2            9jalover 2022-03-31 10:50:06+00:00   \n",
       "3             Jordy 🌱 2022-03-31 10:50:06+00:00   \n",
       "4        Buddy Watson 2022-03-31 10:49:56+00:00   \n",
       "\n",
       "                                               Tweet  \n",
       "0  Not everyone. Feel sad for The New Mutants and...  \n",
       "1  @hzjoetv Honestly bro I don’t care about revie...  \n",
       "2  Morbius’ Post Credits Scene Leaked? Ahead of t...  \n",
       "3  since when was morbius “everyone’s” most antic...  \n",
       "4  Morbius (2022)\\n#NowWatching \\n\\nAlright I’ll ...  "
      ]
     },
     "execution_count": 6,
     "metadata": {},
     "output_type": "execute_result"
    }
   ],
   "source": [
    "morbius1 = morbius1.drop(['Unnamed: 0'], axis=1)\n",
    "morbius1['Time'] = pd.to_datetime(morbius1['Time'])\n",
    "morbius1.head()"
   ]
  },
  {
   "cell_type": "code",
   "execution_count": 7,
   "metadata": {},
   "outputs": [
    {
     "data": {
      "text/plain": [
       "Name                  object\n",
       "Time     datetime64[ns, UTC]\n",
       "Tweet                 object\n",
       "dtype: object"
      ]
     },
     "execution_count": 7,
     "metadata": {},
     "output_type": "execute_result"
    }
   ],
   "source": [
    "morbius1.dtypes"
   ]
  },
  {
   "cell_type": "code",
   "execution_count": 8,
   "metadata": {},
   "outputs": [],
   "source": [
    "morbius2 = pd.read_csv('../data/Morbius_01-04-22.csv')"
   ]
  },
  {
   "cell_type": "code",
   "execution_count": 9,
   "metadata": {},
   "outputs": [
    {
     "data": {
      "text/html": [
       "<div>\n",
       "<style scoped>\n",
       "    .dataframe tbody tr th:only-of-type {\n",
       "        vertical-align: middle;\n",
       "    }\n",
       "\n",
       "    .dataframe tbody tr th {\n",
       "        vertical-align: top;\n",
       "    }\n",
       "\n",
       "    .dataframe thead th {\n",
       "        text-align: right;\n",
       "    }\n",
       "</style>\n",
       "<table border=\"1\" class=\"dataframe\">\n",
       "  <thead>\n",
       "    <tr style=\"text-align: right;\">\n",
       "      <th></th>\n",
       "      <th>Name</th>\n",
       "      <th>Time</th>\n",
       "      <th>Tweet</th>\n",
       "    </tr>\n",
       "  </thead>\n",
       "  <tbody>\n",
       "    <tr>\n",
       "      <th>0</th>\n",
       "      <td>John Combs</td>\n",
       "      <td>2022-04-01 11:51:09+00:00</td>\n",
       "      <td>@VideoGwen To be clear, if I had planned on se...</td>\n",
       "    </tr>\n",
       "    <tr>\n",
       "      <th>1</th>\n",
       "      <td>Lane</td>\n",
       "      <td>2022-04-01 11:51:09+00:00</td>\n",
       "      <td>Morbius just was not very good unfortunately</td>\n",
       "    </tr>\n",
       "    <tr>\n",
       "      <th>2</th>\n",
       "      <td>Vomfee</td>\n",
       "      <td>2022-04-01 11:51:06+00:00</td>\n",
       "      <td>@entom_dp Morbius on epic games store?</td>\n",
       "    </tr>\n",
       "    <tr>\n",
       "      <th>3</th>\n",
       "      <td>cranbear 🐻</td>\n",
       "      <td>2022-04-01 11:51:06+00:00</td>\n",
       "      <td>I screamed when I looked at my AMC to see how ...</td>\n",
       "    </tr>\n",
       "    <tr>\n",
       "      <th>4</th>\n",
       "      <td>BTS (Big Time Socialists) Fan</td>\n",
       "      <td>2022-04-01 11:51:04+00:00</td>\n",
       "      <td>Can't wait to watch morbius</td>\n",
       "    </tr>\n",
       "  </tbody>\n",
       "</table>\n",
       "</div>"
      ],
      "text/plain": [
       "                            Name                      Time  \\\n",
       "0                     John Combs 2022-04-01 11:51:09+00:00   \n",
       "1                           Lane 2022-04-01 11:51:09+00:00   \n",
       "2                         Vomfee 2022-04-01 11:51:06+00:00   \n",
       "3                     cranbear 🐻 2022-04-01 11:51:06+00:00   \n",
       "4  BTS (Big Time Socialists) Fan 2022-04-01 11:51:04+00:00   \n",
       "\n",
       "                                               Tweet  \n",
       "0  @VideoGwen To be clear, if I had planned on se...  \n",
       "1       Morbius just was not very good unfortunately  \n",
       "2             @entom_dp Morbius on epic games store?  \n",
       "3  I screamed when I looked at my AMC to see how ...  \n",
       "4                        Can't wait to watch morbius  "
      ]
     },
     "execution_count": 9,
     "metadata": {},
     "output_type": "execute_result"
    }
   ],
   "source": [
    "morbius2 = morbius2.drop(['Unnamed: 0'], axis=1)\n",
    "morbius2['Time'] = pd.to_datetime(morbius2['Time'])\n",
    "morbius2.head()"
   ]
  },
  {
   "cell_type": "code",
   "execution_count": 12,
   "metadata": {},
   "outputs": [],
   "source": [
    "moon_knight1 = pd.read_csv('../data/Moon Knight_31-03-22.csv')"
   ]
  },
  {
   "cell_type": "code",
   "execution_count": 13,
   "metadata": {},
   "outputs": [
    {
     "data": {
      "text/html": [
       "<div>\n",
       "<style scoped>\n",
       "    .dataframe tbody tr th:only-of-type {\n",
       "        vertical-align: middle;\n",
       "    }\n",
       "\n",
       "    .dataframe tbody tr th {\n",
       "        vertical-align: top;\n",
       "    }\n",
       "\n",
       "    .dataframe thead th {\n",
       "        text-align: right;\n",
       "    }\n",
       "</style>\n",
       "<table border=\"1\" class=\"dataframe\">\n",
       "  <thead>\n",
       "    <tr style=\"text-align: right;\">\n",
       "      <th></th>\n",
       "      <th>Name</th>\n",
       "      <th>Time</th>\n",
       "      <th>Tweet</th>\n",
       "    </tr>\n",
       "  </thead>\n",
       "  <tbody>\n",
       "    <tr>\n",
       "      <th>0</th>\n",
       "      <td>Darian Smith</td>\n",
       "      <td>2022-03-31 10:50:26+00:00</td>\n",
       "      <td>@BingeWatchThis_ Moon knight hands down</td>\n",
       "    </tr>\n",
       "    <tr>\n",
       "      <th>1</th>\n",
       "      <td>Murilo 📖: It: A Coisa</td>\n",
       "      <td>2022-03-31 10:50:24+00:00</td>\n",
       "      <td>Acabei de assistir: Moon Knight - S01 | E01 - ...</td>\n",
       "    </tr>\n",
       "    <tr>\n",
       "      <th>2</th>\n",
       "      <td>holland kastellanos (BLM, ACAB)</td>\n",
       "      <td>2022-03-31 10:50:19+00:00</td>\n",
       "      <td>first episode of moon knight was pretty fckn s...</td>\n",
       "    </tr>\n",
       "    <tr>\n",
       "      <th>3</th>\n",
       "      <td>Sharjeel Akhtar ✪ | #TASMGANG</td>\n",
       "      <td>2022-03-31 10:50:18+00:00</td>\n",
       "      <td>Moon Knight show got me interested in the char...</td>\n",
       "    </tr>\n",
       "    <tr>\n",
       "      <th>4</th>\n",
       "      <td>Anna</td>\n",
       "      <td>2022-03-31 10:50:05+00:00</td>\n",
       "      <td>WATCHING MOON KNIGHT RN OMGMDNDN  I LOVE ITT</td>\n",
       "    </tr>\n",
       "  </tbody>\n",
       "</table>\n",
       "</div>"
      ],
      "text/plain": [
       "                              Name                      Time  \\\n",
       "0                     Darian Smith 2022-03-31 10:50:26+00:00   \n",
       "1            Murilo 📖: It: A Coisa 2022-03-31 10:50:24+00:00   \n",
       "2  holland kastellanos (BLM, ACAB) 2022-03-31 10:50:19+00:00   \n",
       "3    Sharjeel Akhtar ✪ | #TASMGANG 2022-03-31 10:50:18+00:00   \n",
       "4                             Anna 2022-03-31 10:50:05+00:00   \n",
       "\n",
       "                                               Tweet  \n",
       "0            @BingeWatchThis_ Moon knight hands down  \n",
       "1  Acabei de assistir: Moon Knight - S01 | E01 - ...  \n",
       "2  first episode of moon knight was pretty fckn s...  \n",
       "3  Moon Knight show got me interested in the char...  \n",
       "4       WATCHING MOON KNIGHT RN OMGMDNDN  I LOVE ITT  "
      ]
     },
     "execution_count": 13,
     "metadata": {},
     "output_type": "execute_result"
    }
   ],
   "source": [
    "moon_knight1 = moon_knight1.drop(['Unnamed: 0'], axis=1)\n",
    "moon_knight1['Time'] = pd.to_datetime(moon_knight1['Time'])\n",
    "moon_knight1.head()"
   ]
  },
  {
   "cell_type": "code",
   "execution_count": 14,
   "metadata": {},
   "outputs": [],
   "source": [
    "moon_knight2 = pd.read_csv('../data/Moon Knight_01-04-22.csv')"
   ]
  },
  {
   "cell_type": "code",
   "execution_count": 15,
   "metadata": {},
   "outputs": [
    {
     "data": {
      "text/html": [
       "<div>\n",
       "<style scoped>\n",
       "    .dataframe tbody tr th:only-of-type {\n",
       "        vertical-align: middle;\n",
       "    }\n",
       "\n",
       "    .dataframe tbody tr th {\n",
       "        vertical-align: top;\n",
       "    }\n",
       "\n",
       "    .dataframe thead th {\n",
       "        text-align: right;\n",
       "    }\n",
       "</style>\n",
       "<table border=\"1\" class=\"dataframe\">\n",
       "  <thead>\n",
       "    <tr style=\"text-align: right;\">\n",
       "      <th></th>\n",
       "      <th>Name</th>\n",
       "      <th>Time</th>\n",
       "      <th>Tweet</th>\n",
       "    </tr>\n",
       "  </thead>\n",
       "  <tbody>\n",
       "    <tr>\n",
       "      <th>0</th>\n",
       "      <td>Jason: Human Retweet Machine</td>\n",
       "      <td>2022-04-01 11:51:00+00:00</td>\n",
       "      <td>@dinoMADN3SS Never forget only Moon Knight wou...</td>\n",
       "    </tr>\n",
       "    <tr>\n",
       "      <th>1</th>\n",
       "      <td>lily | moon knight era</td>\n",
       "      <td>2022-04-01 11:50:53+00:00</td>\n",
       "      <td>people are talking shit about oscar isaac’s br...</td>\n",
       "    </tr>\n",
       "    <tr>\n",
       "      <th>2</th>\n",
       "      <td>Avia</td>\n",
       "      <td>2022-04-01 11:50:38+00:00</td>\n",
       "      <td>Moon Knight is pretty boring so far. The only ...</td>\n",
       "    </tr>\n",
       "    <tr>\n",
       "      <th>3</th>\n",
       "      <td>Jacob Kirk || REBORN: FROM DARKNESS</td>\n",
       "      <td>2022-04-01 11:50:13+00:00</td>\n",
       "      <td>Moon Knight ep.1 is probably the best thing in...</td>\n",
       "    </tr>\n",
       "    <tr>\n",
       "      <th>4</th>\n",
       "      <td>Jetpack_steve</td>\n",
       "      <td>2022-04-01 11:49:58+00:00</td>\n",
       "      <td>@StephenByrne86 they are so cute and i really ...</td>\n",
       "    </tr>\n",
       "  </tbody>\n",
       "</table>\n",
       "</div>"
      ],
      "text/plain": [
       "                                  Name                      Time  \\\n",
       "0         Jason: Human Retweet Machine 2022-04-01 11:51:00+00:00   \n",
       "1               lily | moon knight era 2022-04-01 11:50:53+00:00   \n",
       "2                                 Avia 2022-04-01 11:50:38+00:00   \n",
       "3  Jacob Kirk || REBORN: FROM DARKNESS 2022-04-01 11:50:13+00:00   \n",
       "4                        Jetpack_steve 2022-04-01 11:49:58+00:00   \n",
       "\n",
       "                                               Tweet  \n",
       "0  @dinoMADN3SS Never forget only Moon Knight wou...  \n",
       "1  people are talking shit about oscar isaac’s br...  \n",
       "2  Moon Knight is pretty boring so far. The only ...  \n",
       "3  Moon Knight ep.1 is probably the best thing in...  \n",
       "4  @StephenByrne86 they are so cute and i really ...  "
      ]
     },
     "execution_count": 15,
     "metadata": {},
     "output_type": "execute_result"
    }
   ],
   "source": [
    "moon_knight2 = moon_knight2.drop(['Unnamed: 0'], axis=1)\n",
    "moon_knight2['Time'] = pd.to_datetime(moon_knight2['Time'])\n",
    "moon_knight2.head()"
   ]
  },
  {
   "cell_type": "markdown",
   "metadata": {},
   "source": [
    "_Sentiment Analysis_"
   ]
  },
  {
   "cell_type": "markdown",
   "metadata": {},
   "source": [
    "Adding scores and labels to df"
   ]
  },
  {
   "cell_type": "code",
   "execution_count": 18,
   "metadata": {},
   "outputs": [],
   "source": [
    "morbius1['Scores'] = morbius1['Tweet'].apply(lambda Tweet:sent_analyzer.polarity_scores(Tweet))\n",
    "morbius2['Scores'] = morbius2['Tweet'].apply(lambda Tweet:sent_analyzer.polarity_scores(Tweet))\n",
    "moon_knight1['Scores'] = moon_knight1['Tweet'].apply(lambda Tweet:sent_analyzer.polarity_scores(Tweet))\n",
    "moon_knight2['Scores'] = moon_knight2['Tweet'].apply(lambda Tweet:sent_analyzer.polarity_scores(Tweet))"
   ]
  },
  {
   "cell_type": "code",
   "execution_count": 19,
   "metadata": {},
   "outputs": [],
   "source": [
    "morbius1['Compound'] = morbius1['Scores'].apply(lambda score_dict:score_dict['compound'])\n",
    "morbius2['Compound'] = morbius2['Scores'].apply(lambda score_dict:score_dict['compound'])\n",
    "moon_knight1['Compound'] = moon_knight1['Scores'].apply(lambda score_dict:score_dict['compound'])\n",
    "moon_knight2['Compound'] = moon_knight2['Scores'].apply(lambda score_dict:score_dict['compound'])"
   ]
  },
  {
   "cell_type": "code",
   "execution_count": null,
   "metadata": {},
   "outputs": [],
   "source": [
    "# morbius1['Compound-Score'] = morbius1['Compound'].apply(lambda c: 'pos' if c >= 0 else 'neg')\n",
    "# morbius2['Compound-Score'] = morbius2['Compound'].apply(lambda c: 'pos' if c >= 0 else 'neg')\n",
    "# moon_knight1['Compound-Score'] = moon_knight1['Compound'].apply(lambda c: 'pos' if c >= 0 else 'neg')\n",
    "# moon_knight2['Compound-Score'] = moon_knight2['Compound'].apply(lambda c: 'pos' if c >= 0 else 'neg')"
   ]
  },
  {
   "cell_type": "code",
   "execution_count": null,
   "metadata": {},
   "outputs": [],
   "source": [
    "# morbius1['Compound-Score'] = morbius1['Compound-Score'].astype('category')\n",
    "# morbius2['Compound-Score'] = morbius2['Compound-Score'].astype('category')\n",
    "# moon_knight1['Compound-Score'] = moon_knight1['Compound-Score'].astype('category')\n",
    "# moon_knight2['Compound-Score'] = moon_knight2['Compound-Score'].astype('category')"
   ]
  },
  {
   "cell_type": "code",
   "execution_count": null,
   "metadata": {},
   "outputs": [],
   "source": [
    "# morbius1.dtypes"
   ]
  },
  {
   "cell_type": "markdown",
   "metadata": {},
   "source": [
    "_Concat dataframes_"
   ]
  },
  {
   "cell_type": "code",
   "execution_count": null,
   "metadata": {},
   "outputs": [],
   "source": [
    "# morbius_12 = pd.concat([morbius1, morbius2])"
   ]
  },
  {
   "cell_type": "code",
   "execution_count": null,
   "metadata": {},
   "outputs": [],
   "source": [
    "# moon_knight_12 = pd.concat([moon_knight1, moon_knight2])"
   ]
  },
  {
   "cell_type": "markdown",
   "metadata": {},
   "source": [
    "_Save to CSV_"
   ]
  },
  {
   "cell_type": "code",
   "execution_count": null,
   "metadata": {},
   "outputs": [],
   "source": [
    "# morbius_12.to_csv('../data/morbius12_sentiment.csv')"
   ]
  },
  {
   "cell_type": "code",
   "execution_count": null,
   "metadata": {},
   "outputs": [],
   "source": [
    "# moon_knight_12.to_csv('../data/moonknight12_sentiment.csv')"
   ]
  },
  {
   "cell_type": "markdown",
   "metadata": {},
   "source": [
    "_Data Visualization_"
   ]
  },
  {
   "cell_type": "code",
   "execution_count": 21,
   "metadata": {},
   "outputs": [],
   "source": [
    "import matplotlib.pyplot as plt\n",
    "import seaborn as sns"
   ]
  },
  {
   "cell_type": "code",
   "execution_count": 30,
   "metadata": {},
   "outputs": [
    {
     "data": {
      "text/plain": [
       "Text(0.5, 1.0, 'Morbius Sentiment')"
      ]
     },
     "execution_count": 30,
     "metadata": {},
     "output_type": "execute_result"
    },
    {
     "data": {
      "image/png": "[encoded data removed]",
      "text/plain": [
       "<Figure size 432x288 with 1 Axes>"
      ]
     },
     "metadata": {
      "needs_background": "light"
     },
     "output_type": "display_data"
    }
   ],
   "source": [
    "ax1 = sns.kdeplot(data=morbius1, x='Compound', label = 'Morbius day1', color = 'r', linestyle='--')\n",
    "ax2 = sns.kdeplot(data=morbius2, x='Compound', label = 'Morbius day2', color = 'r')\n",
    "\n",
    "plt.legend()\n",
    "plt.title('Morbius Sentiment')"
   ]
  },
  {
   "cell_type": "markdown",
   "metadata": {},
   "source": [
    "We can observe that, on the second day, the sentiment for \"Morbius\" went up on the negative side and went down on the positive side."
   ]
  },
  {
   "cell_type": "code",
   "execution_count": 31,
   "metadata": {},
   "outputs": [
    {
     "data": {
      "text/plain": [
       "Text(0.5, 1.0, 'Moon Knight Sentiment')"
      ]
     },
     "execution_count": 31,
     "metadata": {},
     "output_type": "execute_result"
    },
    {
     "data": {
      "image/png": "[encoded data removed]",
      "text/plain": [
       "<Figure size 432x288 with 1 Axes>"
      ]
     },
     "metadata": {
      "needs_background": "light"
     },
     "output_type": "display_data"
    }
   ],
   "source": [
    "ax3 = sns.kdeplot(data=moon_knight1, x='Compound', label = 'Moon Knight day1', color = 'blue', linestyle='--')\n",
    "ax4 = sns.kdeplot(data=moon_knight2, x='Compound', label = 'Moon Knight day2', color = 'blue')\n",
    "\n",
    "plt.legend()\n",
    "plt.title('Moon Knight Sentiment')"
   ]
  },
  {
   "cell_type": "code",
   "execution_count": 51,
   "metadata": {},
   "outputs": [
    {
     "data": {
      "image/png": "[encoded data removed]",
      "text/plain": [
       "<Figure size 432x288 with 1 Axes>"
      ]
     },
     "metadata": {
      "needs_background": "light"
     },
     "output_type": "display_data"
    }
   ],
   "source": [
    "ax1 = sns.kdeplot(data=morbius1, x='Compound', label = 'Morbius day1', color = 'r', linestyle='--')\n",
    "ax2 = sns.kdeplot(data=morbius2, x='Compound', label = 'Morbius day2', color = 'r')\n",
    "\n",
    "ax3 = sns.kdeplot(data=moon_knight1, x='Compound', label = 'Moon Knight day1', color = 'blue', linestyle='--')\n",
    "ax4 = sns.kdeplot(data=moon_knight2, x='Compound', label = 'Moon Knight day2', color = 'blue')\n",
    "\n",
    "ax1.set_xlim(-1,1)\n",
    "ax2.set_xlim(-1,1)\n",
    "ax3.set_xlim(-1,1)\n",
    "ax4.set_xlim(-1,1)\n",
    "\n",
    "plt.legend()\n",
    "plt.suptitle('Morbius VS Moon Knight Sentiment', fontsize=14)\n",
    "plt.title('Morbius\\' sentiment dropped while Moon Knight\\'s sentiment remained similar')\n",
    "plt.savefig('../figures/morbiusVSmoonknight.png', dpi=300, bbox_inches = 'tight', facecolor='white', transparent=False)"
   ]
  }
 ],
 "metadata": {
  "interpreter": {
   "hash": "7c718c3f4bc65d06ea18fa4ce8d078d563a2be20f942ed357f00f50d87265992"
  },
  "kernelspec": {
   "display_name": "Python 3.9.11 ('sentiment')",
   "language": "python",
   "name": "python3"
  },
  "language_info": {
   "codemirror_mode": {
    "name": "ipython",
    "version": 3
   },
   "file_extension": ".py",
   "mimetype": "text/x-python",
   "name": "python",
   "nbconvert_exporter": "python",
   "pygments_lexer": "ipython3",
   "version": "3.9.11"
  },
  "orig_nbformat": 4
 },
 "nbformat": 4,
 "nbformat_minor": 2
}
