{
 "cells": [
  {
   "cell_type": "markdown",
   "metadata": {},
   "source": [
    "## Morbius - Twitter data"
   ]
  },
  {
   "cell_type": "code",
   "execution_count": 1,
   "metadata": {},
   "outputs": [],
   "source": [
    "import numpy as np\n",
    "import pandas as pd\n",
    "import tweepy"
   ]
  },
  {
   "cell_type": "code",
   "execution_count": 2,
   "metadata": {},
   "outputs": [],
   "source": [
    "# insert the keys here\n",
    "consumer_key = '' \n",
    "consumer_secret = ''\n",
    "access_token = ''\n",
    "access_token_secret = ''"
   ]
  },
  {
   "cell_type": "markdown",
   "metadata": {},
   "source": [
    "The next step is creating an OAuthHandler instance. We pass our consumer key and access token which we defined above."
   ]
  },
  {
   "cell_type": "code",
   "execution_count": 3,
   "metadata": {},
   "outputs": [],
   "source": [
    "auth = tweepy.OAuthHandler(consumer_key, consumer_secret)\n",
    "auth.set_access_token(access_token, access_token_secret)"
   ]
  },
  {
   "cell_type": "markdown",
   "metadata": {},
   "source": [
    "Next, we pass the OAuthHandler instance into the API method."
   ]
  },
  {
   "cell_type": "code",
   "execution_count": 4,
   "metadata": {},
   "outputs": [],
   "source": [
    "api = tweepy.API(auth)"
   ]
  },
  {
   "cell_type": "markdown",
   "metadata": {},
   "source": [
    "Next, we initialize lists for fields we are interested in analyzing. For now, we can look at the tweet strings, users, and the time of the tweet. Next, we write a for loop over a tweepy ‘Cursor’ object. Within the ‘Cursor’ object we pass the ‘api.search’ method, set the query string (q= \"Morbius\" ) for what we would like to search for, and set ‘count’ = 1000 so that we don’t exceed the twitter rate limit. We also use the ‘item()’ method to convert the ‘Cursor’ object into an iterable.\n",
    "\n",
    "In order to simplify the query we can remove retweets and only include tweets in English."
   ]
  },
  {
   "cell_type": "code",
   "execution_count": 6,
   "metadata": {},
   "outputs": [
    {
     "name": "stdout",
     "output_type": "stream",
     "text": [
      "['Jingly-Jangly🚶\\u200d♀️🐕🐦🐦', datetime.datetime(2022, 3, 31, 10, 19, 1, tzinfo=datetime.timezone.utc), 'RT @jrvsscarlet: Be careful out there everyone. I had 2 Morbius tickets in my car and someone broke in and left 4 more. https://t.co/AUtwDe…']\n"
     ]
    }
   ],
   "source": [
    "'''\n",
    "twitter_users = []\n",
    "tweet_time = []\n",
    "tweet_string = []\n",
    "\n",
    "for tweet in tweepy.Cursor(api.search_tweets, q=\"Morbius\", count=1000).items(1000):\n",
    "    if (not tweet.retweeted) and ('RT @' not in tweet.text):\n",
    "        if tweet.lang == \"en\":\n",
    "            twitter_users.append(tweet.user.name)\n",
    "            tweet_time.append(tweet.created_at)\n",
    "            tweet_string.append(tweet.text)\n",
    "\n",
    "print([tweet.user.name,tweet.created_at,tweet.text])\n",
    "'''"
   ]
  },
  {
   "cell_type": "markdown",
   "metadata": {},
   "source": [
    "The next thing we can do is store the query results in a dataframe. To do this let’s define a function that takes a key word as an argument and returns a dataframe with 1000 tweets related to the keyword."
   ]
  },
  {
   "cell_type": "code",
   "execution_count": 6,
   "metadata": {},
   "outputs": [],
   "source": [
    "def get_related_tweets(keyword):\n",
    "    twitter_users = []\n",
    "    tweet_time = []\n",
    "    tweet_string = []\n",
    "\n",
    "    for tweet in tweepy.Cursor(api.search_tweets, q=keyword, count=1000).items(1000):\n",
    "        if (not tweet.retweeted) and ('RT @' not in tweet.text):\n",
    "            if tweet.lang == \"en\":\n",
    "                twitter_users.append(tweet.user.name)\n",
    "                tweet_time.append(tweet.created_at)\n",
    "                tweet_string.append(tweet.text)\n",
    "\n",
    "    df = pd.DataFrame({'Name':twitter_users, 'Time':tweet_time, 'Tweet':tweet_string})\n",
    "    df.to_csv(f'../data/{keyword}.csv')\n",
    "    return df"
   ]
  },
  {
   "cell_type": "markdown",
   "metadata": {},
   "source": [
    "When we call the function with \"Morbius\", define a dataframe as the function’s return value and print its first five rows we get "
   ]
  },
  {
   "cell_type": "code",
   "execution_count": 7,
   "metadata": {},
   "outputs": [
    {
     "data": {
      "text/html": [
       "<div>\n",
       "<style scoped>\n",
       "    .dataframe tbody tr th:only-of-type {\n",
       "        vertical-align: middle;\n",
       "    }\n",
       "\n",
       "    .dataframe tbody tr th {\n",
       "        vertical-align: top;\n",
       "    }\n",
       "\n",
       "    .dataframe thead th {\n",
       "        text-align: right;\n",
       "    }\n",
       "</style>\n",
       "<table border=\"1\" class=\"dataframe\">\n",
       "  <thead>\n",
       "    <tr style=\"text-align: right;\">\n",
       "      <th></th>\n",
       "      <th>Name</th>\n",
       "      <th>Time</th>\n",
       "      <th>Tweet</th>\n",
       "    </tr>\n",
       "  </thead>\n",
       "  <tbody>\n",
       "    <tr>\n",
       "      <th>0</th>\n",
       "      <td>The Ohioan</td>\n",
       "      <td>2022-04-03 09:26:45+00:00</td>\n",
       "      <td>. @beaconjournal movie reviewer @ByGeorgeThoma...</td>\n",
       "    </tr>\n",
       "    <tr>\n",
       "      <th>1</th>\n",
       "      <td>no one you’re following.</td>\n",
       "      <td>2022-04-03 09:26:41+00:00</td>\n",
       "      <td>Es poo tryna get my to die via morbius screening</td>\n",
       "    </tr>\n",
       "    <tr>\n",
       "      <th>2</th>\n",
       "      <td>Randy Gummerman</td>\n",
       "      <td>2022-04-03 09:26:41+00:00</td>\n",
       "      <td>Morbius Post Credit Scene and Spider-Man No Wa...</td>\n",
       "    </tr>\n",
       "    <tr>\n",
       "      <th>3</th>\n",
       "      <td>Leslie Wai</td>\n",
       "      <td>2022-04-03 09:26:28+00:00</td>\n",
       "      <td>@KermodeMovie @ScalaRadio Hi Mark, will you be...</td>\n",
       "    </tr>\n",
       "    <tr>\n",
       "      <th>4</th>\n",
       "      <td>stinky little man</td>\n",
       "      <td>2022-04-03 09:26:10+00:00</td>\n",
       "      <td>MORBIUS SUCKED\\nWTF</td>\n",
       "    </tr>\n",
       "  </tbody>\n",
       "</table>\n",
       "</div>"
      ],
      "text/plain": [
       "                       Name                      Time  \\\n",
       "0                The Ohioan 2022-04-03 09:26:45+00:00   \n",
       "1  no one you’re following. 2022-04-03 09:26:41+00:00   \n",
       "2           Randy Gummerman 2022-04-03 09:26:41+00:00   \n",
       "3                Leslie Wai 2022-04-03 09:26:28+00:00   \n",
       "4         stinky little man 2022-04-03 09:26:10+00:00   \n",
       "\n",
       "                                               Tweet  \n",
       "0  . @beaconjournal movie reviewer @ByGeorgeThoma...  \n",
       "1   Es poo tryna get my to die via morbius screening  \n",
       "2  Morbius Post Credit Scene and Spider-Man No Wa...  \n",
       "3  @KermodeMovie @ScalaRadio Hi Mark, will you be...  \n",
       "4                                MORBIUS SUCKED\\nWTF  "
      ]
     },
     "execution_count": 7,
     "metadata": {},
     "output_type": "execute_result"
    }
   ],
   "source": [
    "df_morbius = get_related_tweets(\"Morbius\")\n",
    "df_morbius.head()"
   ]
  },
  {
   "cell_type": "markdown",
   "metadata": {},
   "source": [
    "The same but for the TV show \"Moon Knight\""
   ]
  },
  {
   "cell_type": "code",
   "execution_count": 7,
   "metadata": {},
   "outputs": [
    {
     "data": {
      "text/html": [
       "<div>\n",
       "<style scoped>\n",
       "    .dataframe tbody tr th:only-of-type {\n",
       "        vertical-align: middle;\n",
       "    }\n",
       "\n",
       "    .dataframe tbody tr th {\n",
       "        vertical-align: top;\n",
       "    }\n",
       "\n",
       "    .dataframe thead th {\n",
       "        text-align: right;\n",
       "    }\n",
       "</style>\n",
       "<table border=\"1\" class=\"dataframe\">\n",
       "  <thead>\n",
       "    <tr style=\"text-align: right;\">\n",
       "      <th></th>\n",
       "      <th>Name</th>\n",
       "      <th>Time</th>\n",
       "      <th>Tweet</th>\n",
       "    </tr>\n",
       "  </thead>\n",
       "  <tbody>\n",
       "    <tr>\n",
       "      <th>0</th>\n",
       "      <td>Jason: Human Retweet Machine</td>\n",
       "      <td>2022-04-01 11:51:00+00:00</td>\n",
       "      <td>@dinoMADN3SS Never forget only Moon Knight wou...</td>\n",
       "    </tr>\n",
       "    <tr>\n",
       "      <th>1</th>\n",
       "      <td>lily | moon knight era</td>\n",
       "      <td>2022-04-01 11:50:53+00:00</td>\n",
       "      <td>people are talking shit about oscar isaac’s br...</td>\n",
       "    </tr>\n",
       "    <tr>\n",
       "      <th>2</th>\n",
       "      <td>Avia</td>\n",
       "      <td>2022-04-01 11:50:38+00:00</td>\n",
       "      <td>Moon Knight is pretty boring so far. The only ...</td>\n",
       "    </tr>\n",
       "    <tr>\n",
       "      <th>3</th>\n",
       "      <td>Jacob Kirk || REBORN: FROM DARKNESS</td>\n",
       "      <td>2022-04-01 11:50:13+00:00</td>\n",
       "      <td>Moon Knight ep.1 is probably the best thing in...</td>\n",
       "    </tr>\n",
       "    <tr>\n",
       "      <th>4</th>\n",
       "      <td>Jetpack_steve</td>\n",
       "      <td>2022-04-01 11:49:58+00:00</td>\n",
       "      <td>@StephenByrne86 they are so cute and i really ...</td>\n",
       "    </tr>\n",
       "  </tbody>\n",
       "</table>\n",
       "</div>"
      ],
      "text/plain": [
       "                                  Name                      Time  \\\n",
       "0         Jason: Human Retweet Machine 2022-04-01 11:51:00+00:00   \n",
       "1               lily | moon knight era 2022-04-01 11:50:53+00:00   \n",
       "2                                 Avia 2022-04-01 11:50:38+00:00   \n",
       "3  Jacob Kirk || REBORN: FROM DARKNESS 2022-04-01 11:50:13+00:00   \n",
       "4                        Jetpack_steve 2022-04-01 11:49:58+00:00   \n",
       "\n",
       "                                               Tweet  \n",
       "0  @dinoMADN3SS Never forget only Moon Knight wou...  \n",
       "1  people are talking shit about oscar isaac’s br...  \n",
       "2  Moon Knight is pretty boring so far. The only ...  \n",
       "3  Moon Knight ep.1 is probably the best thing in...  \n",
       "4  @StephenByrne86 they are so cute and i really ...  "
      ]
     },
     "execution_count": 7,
     "metadata": {},
     "output_type": "execute_result"
    }
   ],
   "source": [
    "df_moon_knight = get_related_tweets(\"Moon Knight\")\n",
    "df_moon_knight.head()"
   ]
  }
 ],
 "metadata": {
  "interpreter": {
   "hash": "5d30ade517032af9f83e76b4c1f82764a5ebbc3648a0d6da3e74d38f51ebb645"
  },
  "kernelspec": {
   "display_name": "Python 3.9.11 ('twitter')",
   "language": "python",
   "name": "python3"
  },
  "language_info": {
   "codemirror_mode": {
    "name": "ipython",
    "version": 3
   },
   "file_extension": ".py",
   "mimetype": "text/x-python",
   "name": "python",
   "nbconvert_exporter": "python",
   "pygments_lexer": "ipython3",
   "version": "3.9.11"
  },
  "orig_nbformat": 4
 },
 "nbformat": 4,
 "nbformat_minor": 2
}
